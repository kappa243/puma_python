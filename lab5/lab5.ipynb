{
 "cells": [
  {
   "attachments": {},
   "cell_type": "markdown",
   "metadata": {},
   "source": [
    "##### 1. Download and load data"
   ]
  },
  {
   "cell_type": "code",
   "execution_count": 55,
   "metadata": {},
   "outputs": [
    {
     "name": "stdout",
     "output_type": "stream",
     "text": [
      "The file exists, no need to download it again.\n"
     ]
    }
   ],
   "source": [
    "import os\n",
    "import urllib.request\n",
    "\n",
    "\n",
    "url = \"https://jundongl.github.io/scikit-feature/files/datasets/leukemia.mat\"\n",
    "\n",
    "# check if the file exists\n",
    "if os.path.exists(\"leukemia.mat\"):\n",
    "  print(\"The file exists, no need to download it again.\")\n",
    "else:\n",
    "  # download the file\n",
    "  print(\"The file does not exist, downloading it now...\")\n",
    "  urllib.request.urlretrieve(url, \"leukemia.mat\")\n"
   ]
  },
  {
   "cell_type": "code",
   "execution_count": 56,
   "metadata": {},
   "outputs": [],
   "source": [
    "from scipy.io import loadmat\n",
    "\n",
    "mat = loadmat('leukemia.mat')"
   ]
  },
  {
   "attachments": {},
   "cell_type": "markdown",
   "metadata": {},
   "source": [
    "##### 2. Load and clean data"
   ]
  },
  {
   "cell_type": "code",
   "execution_count": 57,
   "metadata": {},
   "outputs": [
    {
     "name": "stdout",
     "output_type": "stream",
     "text": [
      "(72, 7070)\n",
      "(72, 1)\n",
      "(72, 7070)\n",
      "(72,)\n"
     ]
    }
   ],
   "source": [
    "X = mat['X']\n",
    "y = mat['Y']\n",
    "\n",
    "print(X.shape)\n",
    "print(y.shape)\n",
    "\n",
    "# convert y to 1D array\n",
    "y = y.ravel()\n",
    "\n",
    "print(X.shape)\n",
    "print(y.shape)"
   ]
  },
  {
   "cell_type": "code",
   "execution_count": 58,
   "metadata": {},
   "outputs": [
    {
     "name": "stdout",
     "output_type": "stream",
     "text": [
      "(72, 6990)\n"
     ]
    }
   ],
   "source": [
    "# remove the features which variance is below some threshold\n",
    "from sklearn.feature_selection import VarianceThreshold\n",
    "\n",
    "sel = VarianceThreshold(threshold=0.5)\n",
    "\n",
    "X_sel = sel.fit_transform(X)\n",
    "print(X_sel.shape)"
   ]
  },
  {
   "cell_type": "code",
   "execution_count": 64,
   "metadata": {},
   "outputs": [],
   "source": [
    "# split the data into training and testing\n",
    "from sklearn.model_selection import train_test_split\n",
    "\n",
    "X_train, X_test, y_train, y_test = train_test_split(X_sel, y, test_size=0.2, random_state=2)"
   ]
  },
  {
   "attachments": {},
   "cell_type": "markdown",
   "metadata": {},
   "source": [
    "##### 3. Find best features"
   ]
  },
  {
   "cell_type": "code",
   "execution_count": 65,
   "metadata": {},
   "outputs": [],
   "source": [
    "from sklearn.feature_selection import RFE\n",
    "from sklearn.linear_model import LogisticRegression\n",
    "from sklearn.ensemble import RandomForestClassifier\n",
    "\n",
    "clf_lr = LogisticRegression()\n",
    "rfe_lr = RFE(estimator=clf_lr, n_features_to_select=1000, step=10)\n",
    "rfe_lr = rfe_lr.fit(X_train, y_train)\n",
    "\n",
    "clf_rf = RandomForestClassifier()\n",
    "rfe_rf = RFE(estimator=clf_rf, n_features_to_select=1000, step=10)\n",
    "rfe_lr = rfe_rf.fit(X_train, y_train)"
   ]
  },
  {
   "attachments": {},
   "cell_type": "markdown",
   "metadata": {},
   "source": [
    "##### 4. Investigate the influence of two metrics "
   ]
  },
  {
   "cell_type": "code",
   "execution_count": 66,
   "metadata": {},
   "outputs": [
    {
     "name": "stdout",
     "output_type": "stream",
     "text": [
      "Logistic Regression\n",
      "Accuracy: 0.92 (+/- 0.37)\n",
      "AUC: 1.00 (+/- 0.00)\n",
      "\n",
      "Random Forest\n",
      "Accuracy: 0.92 (+/- 0.37)\n",
      "AUC: 0.83 (+/- 0.75)\n"
     ]
    }
   ],
   "source": [
    "from sklearn.model_selection import cross_val_score\n",
    "from sklearn.metrics import accuracy_score, roc_auc_score\n",
    "\n",
    "scores_lr_acc = cross_val_score(clf_lr, X_test, y_test, cv=6, scoring='accuracy')\n",
    "scores_lr_auc = cross_val_score(clf_lr, X_test, y_test, cv=6, scoring='roc_auc')\n",
    "\n",
    "scores_rf_acc = cross_val_score(clf_rf, X_test, y_test, cv=6, scoring='accuracy')\n",
    "scores_rf_auc = cross_val_score(clf_rf, X_test, y_test, cv=6, scoring='roc_auc')\n",
    "\n",
    "\n",
    "print(\"Logistic Regression\")\n",
    "print(\"Accuracy: %0.2f (+/- %0.2f)\" % (scores_lr_acc.mean(), scores_lr_acc.std() * 2))\n",
    "print(\"AUC: %0.2f (+/- %0.2f)\" % (scores_lr_auc.mean(), scores_lr_auc.std() * 2))\n",
    "\n",
    "print()\n",
    "\n",
    "print(\"Random Forest\")\n",
    "print(\"Accuracy: %0.2f (+/- %0.2f)\" % (scores_rf_acc.mean(), scores_rf_acc.std() * 2))\n",
    "print(\"AUC: %0.2f (+/- %0.2f)\" % (scores_rf_auc.mean(), scores_rf_auc.std() * 2))\n",
    "\n",
    "\n"
   ]
  },
  {
   "cell_type": "code",
   "execution_count": 67,
   "metadata": {},
   "outputs": [
    {
     "name": "stdout",
     "output_type": "stream",
     "text": [
      "Logistic Regression\n",
      "Accuracy: 0.92 (+/- 0.37)\n",
      "AUC: 1.00 (+/- 0.00)\n",
      "\n",
      "Random Forest\n",
      "Accuracy: 0.86 (+/- 0.40)\n",
      "AUC: 1.00 (+/- 0.00)\n"
     ]
    }
   ],
   "source": [
    "from sklearn.feature_selection import SelectFromModel\n",
    "\n",
    "clf_lr = LogisticRegression(penalty='l1', solver='liblinear')\n",
    "clf_lr.fit(X_train, y_train)\n",
    "\n",
    "\n",
    "clf_rf = RandomForestClassifier()\n",
    "clf_rf.fit(X_train, y_train)\n",
    "\n",
    "sfm_rf = SelectFromModel(clf_rf, prefit=True)\n",
    "X_train_rf = sfm_rf.transform(X_train)\n",
    "X_test_rf = sfm_rf.transform(X_test)\n",
    "\n",
    "\n",
    "scores_lr_acc = cross_val_score(clf_lr, X_test, y_test, cv=6, scoring='accuracy')\n",
    "scores_lr_auc = cross_val_score(clf_lr, X_test, y_test, cv=6, scoring='roc_auc')\n",
    "\n",
    "scores_rf_acc = cross_val_score(clf_rf, X_test_rf, y_test, cv=6, scoring='accuracy')\n",
    "scores_rf_auc = cross_val_score(clf_rf, X_test_rf, y_test, cv=6, scoring='roc_auc')\n",
    "\n",
    "\n",
    "print(\"Logistic Regression\")\n",
    "print(\"Accuracy: %0.2f (+/- %0.2f)\" % (scores_lr_acc.mean(), scores_lr_acc.std() * 2))\n",
    "print(\"AUC: %0.2f (+/- %0.2f)\" % (scores_lr_auc.mean(), scores_lr_auc.std() * 2))\n",
    "\n",
    "print()\n",
    "\n",
    "print(\"Random Forest\")\n",
    "print(\"Accuracy: %0.2f (+/- %0.2f)\" % (scores_rf_acc.mean(), scores_rf_acc.std() * 2))\n",
    "print(\"AUC: %0.2f (+/- %0.2f)\" % (scores_rf_auc.mean(), scores_rf_auc.std() * 2))"
   ]
  },
  {
   "attachments": {},
   "cell_type": "markdown",
   "metadata": {},
   "source": [
    "##### 5. The same without removed outliers"
   ]
  },
  {
   "cell_type": "code",
   "execution_count": 69,
   "metadata": {},
   "outputs": [
    {
     "name": "stdout",
     "output_type": "stream",
     "text": [
      "Logistic Regression\n",
      "Accuracy: 0.92 (+/- 0.37)\n",
      "AUC: 1.00 (+/- 0.00)\n",
      "\n",
      "Random Forest\n",
      "Accuracy: 0.94 (+/- 0.25)\n",
      "AUC: 1.00 (+/- 0.00)\n"
     ]
    }
   ],
   "source": [
    "X_train, X_test, y_train, y_test = train_test_split(X, y, test_size=0.2, random_state=2)\n",
    "\n",
    "clf_lr = LogisticRegression()\n",
    "rfe_lr = RFE(estimator=clf_lr, n_features_to_select=1000, step=10)\n",
    "rfe_lr = rfe_lr.fit(X_train, y_train)\n",
    "\n",
    "clf_rf = RandomForestClassifier()\n",
    "rfe_rf = RFE(estimator=clf_rf, n_features_to_select=1000, step=10)\n",
    "rfe_lr = rfe_rf.fit(X_train, y_train)\n",
    "\n",
    "\n",
    "scores_lr_acc = cross_val_score(clf_lr, X_test, y_test, cv=6, scoring='accuracy')\n",
    "scores_lr_auc = cross_val_score(clf_lr, X_test, y_test, cv=6, scoring='roc_auc')\n",
    "\n",
    "scores_rf_acc = cross_val_score(clf_rf, X_test, y_test, cv=6, scoring='accuracy')\n",
    "scores_rf_auc = cross_val_score(clf_rf, X_test, y_test, cv=6, scoring='roc_auc')\n",
    "\n",
    "\n",
    "print(\"Logistic Regression\")\n",
    "print(\"Accuracy: %0.2f (+/- %0.2f)\" % (scores_lr_acc.mean(), scores_lr_acc.std() * 2))\n",
    "print(\"AUC: %0.2f (+/- %0.2f)\" % (scores_lr_auc.mean(), scores_lr_auc.std() * 2))\n",
    "\n",
    "print()\n",
    "\n",
    "print(\"Random Forest\")\n",
    "print(\"Accuracy: %0.2f (+/- %0.2f)\" % (scores_rf_acc.mean(), scores_rf_acc.std() * 2))\n",
    "print(\"AUC: %0.2f (+/- %0.2f)\" % (scores_rf_auc.mean(), scores_rf_auc.std() * 2))\n",
    "\n"
   ]
  }
 ],
 "metadata": {
  "kernelspec": {
   "display_name": ".venv",
   "language": "python",
   "name": "python3"
  },
  "language_info": {
   "codemirror_mode": {
    "name": "ipython",
    "version": 3
   },
   "file_extension": ".py",
   "mimetype": "text/x-python",
   "name": "python",
   "nbconvert_exporter": "python",
   "pygments_lexer": "ipython3",
   "version": "3.10.6"
  },
  "orig_nbformat": 4
 },
 "nbformat": 4,
 "nbformat_minor": 2
}

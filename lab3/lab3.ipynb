{
 "cells": [
  {
   "cell_type": "code",
   "execution_count": 3,
   "metadata": {},
   "outputs": [
    {
     "name": "stdout",
     "output_type": "stream",
     "text": [
      "File already exists: jain.csv\n",
      "File already exists: flame.csv\n"
     ]
    }
   ],
   "source": [
    "# download data\n",
    "\n",
    "import os\n",
    "import urllib.request\n",
    "\n",
    "urls = [\"http://cs.joensuu.fi/sipu/datasets/jain.txt\", \"http://cs.joensuu.fi/sipu/datasets/flame.txt\"]\n",
    "\n",
    "for url in urls:\n",
    "  filename = url.split(\"/\")[-1]\n",
    "\n",
    "  # rename to csv\n",
    "  filename = filename.replace(\".txt\", \".csv\")\n",
    "\n",
    "  # check if file exists\n",
    "  if os.path.isfile(filename):\n",
    "    print(\"File already exists: \" + filename)\n",
    "    continue\n",
    "  \n",
    "  # download file\n",
    "  urllib.request.urlretrieve(url, filename)\n",
    "\n",
    "  print(\"Downloaded: \" + filename)\n",
    "\n",
    "\n",
    "\n"
   ]
  },
  {
   "cell_type": "code",
   "execution_count": null,
   "metadata": {},
   "outputs": [],
   "source": []
  }
 ],
 "metadata": {
  "kernelspec": {
   "display_name": ".venv",
   "language": "python",
   "name": "python3"
  },
  "language_info": {
   "codemirror_mode": {
    "name": "ipython",
    "version": 3
   },
   "file_extension": ".py",
   "mimetype": "text/x-python",
   "name": "python",
   "nbconvert_exporter": "python",
   "pygments_lexer": "ipython3",
   "version": "3.10.6"
  },
  "orig_nbformat": 4
 },
 "nbformat": 4,
 "nbformat_minor": 2
}
